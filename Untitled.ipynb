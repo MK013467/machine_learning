{
 "cells": [
  {
   "cell_type": "code",
   "execution_count": 33,
   "id": "5f1a2af0",
   "metadata": {},
   "outputs": [],
   "source": [
    "import tensorflow as tf\n",
    "from tensorflow import keras\n",
    "from tensorflow.keras import regularizers, layers\n",
    "from tensorflow.keras.datasets import cifar10\n",
    "import numpy as np"
   ]
  },
  {
   "cell_type": "code",
   "execution_count": 14,
   "id": "eb99981d",
   "metadata": {},
   "outputs": [],
   "source": [
    "(X_train , y_train) , (X_test, y_test)  = cifar10.load_data()"
   ]
  },
  {
   "cell_type": "code",
   "execution_count": 18,
   "id": "0a0a7ed8",
   "metadata": {},
   "outputs": [],
   "source": [
    "X_train , X_test = X_train / 255.0 , X_test / 255.0\n"
   ]
  },
  {
   "cell_type": "code",
   "execution_count": 25,
   "id": "d07c66f8",
   "metadata": {},
   "outputs": [
    {
     "data": {
      "text/plain": [
       "<matplotlib.image.AxesImage at 0x153834710>"
      ]
     },
     "execution_count": 25,
     "metadata": {},
     "output_type": "execute_result"
    },
    {
     "data": {
      "image/png": "[encoded data removed]",
      "text/plain": [
       "<Figure size 640x480 with 1 Axes>"
      ]
     },
     "metadata": {},
     "output_type": "display_data"
    }
   ],
   "source": [
    "import matplotlib.pyplot as plt\n",
    "plt.imshow(X_train[25])"
   ]
  },
  {
   "cell_type": "code",
   "execution_count": 19,
   "id": "4154f85e",
   "metadata": {},
   "outputs": [
    {
     "name": "stdout",
     "output_type": "stream",
     "text": [
      "(50000, 32, 32, 3)\n"
     ]
    }
   ],
   "source": [
    "print(X_train.shape)"
   ]
  },
  {
   "cell_type": "code",
   "execution_count": 43,
   "id": "93df4736",
   "metadata": {},
   "outputs": [],
   "source": [
    "model = keras.Sequential([\n",
    "    keras.Input(shape = (32,32,3)),\n",
    "    layers.Conv2D(32,3, padding = 'valid', activation = \"relu\"),\n",
    "    layers.MaxPooling2D(pool_size=(2,2)),\n",
    "    layers.Conv2D(64,3, activation = \"relu\"),\n",
    "    layers.Flatten(),\n",
    "    layers.Dense(64, activation = \"relu\"),\n",
    "    layers.Dense(10)\n",
    "]\n",
    ")\n",
    "\n",
    "def my_model():\n",
    "    inputs = keras.Input(shape=(32,32,3))\n",
    "    x = layers.Conv2D(32, 3)(inputs)\n",
    "    x = layers.BatchNormalization()(x)\n",
    "    x = keras.activations.relu(x)\n",
    "    x = layers.MaxPooling2D()(x)\n",
    "    x = keras.activations.relu(x)\n",
    "    x = layers.MaxPooling2D()(x)\n",
    "    x = layers.Conv2D(64, 5 , padding = \"same\")(x)\n",
    "    x = layers.BatchNormalization()(x)\n",
    "    x = keras.activations.relu(x)\n",
    "    x = layers.Conv2D(128 , 3 )(x)\n",
    "    x = layers.BatchNormalization()(x)\n",
    "    x = keras.activations.relu(x)\n",
    "    x = layers.Flatten()(x)\n",
    "    x = layers.Dense(64, activation = \"relu\")(x)\n",
    "    outputs = layers.Dense(10)(x)\n",
    "    \n",
    "    model = keras.Model(inputs = input , outputs = outputs)\n",
    "    \n",
    "    return model"
   ]
  },
  {
   "cell_type": "code",
   "execution_count": 36,
   "id": "8a6e3db7",
   "metadata": {},
   "outputs": [
    {
     "name": "stdout",
     "output_type": "stream",
     "text": [
      "Model: \"sequential_1\"\n",
      "_________________________________________________________________\n",
      " Layer (type)                Output Shape              Param #   \n",
      "=================================================================\n",
      " conv2d_1 (Conv2D)           (None, 30, 30, 32)        896       \n",
      "                                                                 \n",
      " max_pooling2d_1 (MaxPoolin  (None, 15, 15, 32)        0         \n",
      " g2D)                                                            \n",
      "                                                                 \n",
      " conv2d_2 (Conv2D)           (None, 13, 13, 64)        18496     \n",
      "                                                                 \n",
      " flatten (Flatten)           (None, 10816)             0         \n",
      "                                                                 \n",
      " dense (Dense)               (None, 64)                692288    \n",
      "                                                                 \n",
      " dense_1 (Dense)             (None, 10)                650       \n",
      "                                                                 \n",
      "=================================================================\n",
      "Total params: 712330 (2.72 MB)\n",
      "Trainable params: 712330 (2.72 MB)\n",
      "Non-trainable params: 0 (0.00 Byte)\n",
      "_________________________________________________________________\n"
     ]
    }
   ],
   "source": [
    "model.summary()"
   ]
  },
  {
   "cell_type": "code",
   "execution_count": 34,
   "id": "9454fa5b",
   "metadata": {},
   "outputs": [
    {
     "data": {
      "text/plain": [
       "array([0, 1, 2, 3, 4, 5, 6, 7, 8, 9], dtype=uint8)"
      ]
     },
     "execution_count": 34,
     "metadata": {},
     "output_type": "execute_result"
    }
   ],
   "source": [
    "np.unique(y_train)"
   ]
  },
  {
   "cell_type": "code",
   "execution_count": 40,
   "id": "091a5cf1",
   "metadata": {},
   "outputs": [],
   "source": [
    "model.compile(loss = keras.losses.SparseCategoricalCrossentropy(from_logits = True),\n",
    "             optimizer = keras.optimizers.Adam(learning_rate = 0.01), metrics = [\"accuracy\"])"
   ]
  },
  {
   "cell_type": "code",
   "execution_count": 41,
   "id": "e2a3b5e8",
   "metadata": {},
   "outputs": [
    {
     "name": "stdout",
     "output_type": "stream",
     "text": [
      "Epoch 1/10\n",
      "782/782 - 42s - loss: 2.3038 - accuracy: 0.1002 - 42s/epoch - 53ms/step\n",
      "Epoch 2/10\n",
      "782/782 - 50s - loss: 2.3036 - accuracy: 0.1001 - 50s/epoch - 64ms/step\n",
      "Epoch 3/10\n",
      "782/782 - 40s - loss: 2.3038 - accuracy: 0.0991 - 40s/epoch - 51ms/step\n",
      "Epoch 4/10\n",
      "782/782 - 41s - loss: 2.3036 - accuracy: 0.1010 - 41s/epoch - 52ms/step\n",
      "Epoch 5/10\n",
      "782/782 - 40s - loss: 2.3036 - accuracy: 0.0980 - 40s/epoch - 51ms/step\n",
      "Epoch 6/10\n",
      "782/782 - 40s - loss: 2.3036 - accuracy: 0.0982 - 40s/epoch - 52ms/step\n",
      "Epoch 7/10\n",
      "782/782 - 40s - loss: 2.3036 - accuracy: 0.0985 - 40s/epoch - 51ms/step\n",
      "Epoch 8/10\n",
      "782/782 - 37s - loss: 2.3034 - accuracy: 0.1017 - 37s/epoch - 47ms/step\n",
      "Epoch 9/10\n",
      "782/782 - 37s - loss: 2.3036 - accuracy: 0.0987 - 37s/epoch - 47ms/step\n",
      "Epoch 10/10\n",
      "782/782 - 39s - loss: 2.3036 - accuracy: 0.0993 - 39s/epoch - 50ms/step\n"
     ]
    },
    {
     "data": {
      "text/plain": [
       "<keras.src.callbacks.History at 0x153684990>"
      ]
     },
     "execution_count": 41,
     "metadata": {},
     "output_type": "execute_result"
    }
   ],
   "source": [
    "model.fit(X_train , y_train , batch_size =64, epochs = 10 , verbose = 2)"
   ]
  },
  {
   "cell_type": "code",
   "execution_count": 42,
   "id": "400d38d9",
   "metadata": {},
   "outputs": [
    {
     "name": "stdout",
     "output_type": "stream",
     "text": [
      "157/157 - 1s - loss: 15.9392 - accuracy: 0.1020 - 1s/epoch - 9ms/step\n"
     ]
    },
    {
     "data": {
      "text/plain": [
       "[15.93919563293457, 0.10199999809265137]"
      ]
     },
     "execution_count": 42,
     "metadata": {},
     "output_type": "execute_result"
    }
   ],
   "source": [
    "model.evaluate(x_test, y_test, batch_size = 64 , verbose = 2)"
   ]
  },
  {
   "cell_type": "code",
   "execution_count": null,
   "id": "454b9cde",
   "metadata": {},
   "outputs": [],
   "source": []
  }
 ],
 "metadata": {
  "kernelspec": {
   "display_name": "Python 3 (ipykernel)",
   "language": "python",
   "name": "python3"
  },
  "language_info": {
   "codemirror_mode": {
    "name": "ipython",
    "version": 3
   },
   "file_extension": ".py",
   "mimetype": "text/x-python",
   "name": "python",
   "nbconvert_exporter": "python",
   "pygments_lexer": "ipython3",
   "version": "3.11.5"
  }
 },
 "nbformat": 4,
 "nbformat_minor": 5
}
